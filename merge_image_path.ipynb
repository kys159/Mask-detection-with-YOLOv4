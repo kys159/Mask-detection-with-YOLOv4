{
 "cells": [
  {
   "cell_type": "markdown",
   "metadata": {},
   "source": [
    "## img 경로"
   ]
  },
  {
   "cell_type": "code",
   "execution_count": 24,
   "metadata": {},
   "outputs": [],
   "source": [
    "import glob"
   ]
  },
  {
   "cell_type": "code",
   "execution_count": 25,
   "metadata": {},
   "outputs": [],
   "source": [
    "root1 = 'dataset_label'\n",
    "root2 = ['train', 'valid', 'test']\n",
    "root3 = ['good', 'bad']"
   ]
  },
  {
   "cell_type": "code",
   "execution_count": 26,
   "metadata": {},
   "outputs": [],
   "source": [
    "train_good_root = [root1 + '\\\\' + root2[0] + '\\\\' + root3[0], root1 + '\\\\' + root2[1] + '\\\\' + root3[0]]\n",
    "train_bad_root = [root1 + '\\\\' + root2[0] + '\\\\' + root3[1], root1 + '\\\\' + root2[1] + '\\\\' + root3[1]]\n",
    "test_root = [root1 + '\\\\' + root2[2] + '\\\\' + root3[0], root1 + '\\\\' + root2[2] + '\\\\' + root3[1]]"
   ]
  },
  {
   "cell_type": "code",
   "execution_count": 27,
   "metadata": {},
   "outputs": [],
   "source": [
    "def get_list(roots):\n",
    "    list_txt = []\n",
    "    list_img = []\n",
    "    for root in roots:\n",
    "        path = \"{input your path}\" + root + \"\\\\*\"\n",
    "        file_list = glob.glob(path)\n",
    "        file_list_txt = [file for file in file_list if file.endswith(\"txt\")]\n",
    "        file_list_img = [file for file in file_list if file.endswith(\"g\")]\n",
    "        list_txt.append(file_list_txt)\n",
    "        list_img.append(file_list_img)\n",
    "    list_txt = sum(list_txt, [])\n",
    "    list_img = sum(list_img, [])\n",
    "    return(list_txt, list_img)"
   ]
  },
  {
   "cell_type": "code",
   "execution_count": 28,
   "metadata": {},
   "outputs": [],
   "source": [
    "train_good_list_txt, train_good_list_img = get_list(train_good_root)\n",
    "train_bad_list_txt, train_bad_list_img = get_list(train_bad_root)\n",
    "test_list_txt, test_list_img = get_list(test_root)"
   ]
  },
  {
   "cell_type": "code",
   "execution_count": 29,
   "metadata": {},
   "outputs": [],
   "source": [
    "def change_path(path_list):\n",
    "    total = []\n",
    "    for i in path_list:\n",
    "        total.append('\\\\'.join(i.split('\\\\')[-4:]))\n",
    "    return('\\n'.join(total))"
   ]
  },
  {
   "cell_type": "code",
   "execution_count": 30,
   "metadata": {},
   "outputs": [],
   "source": [
    "train_good_path_img = change_path(train_good_list_img)\n",
    "f = open('{input your path}\\\\train_good.txt', 'w', encoding = 'utf-8')\n",
    "f.write(train_good_path_img)\n",
    "f.close()"
   ]
  },
  {
   "cell_type": "code",
   "execution_count": 31,
   "metadata": {},
   "outputs": [],
   "source": [
    "train_bad_path_img = change_path(train_bad_list_img)\n",
    "f = open('{input your path}\\\\train_bad.txt', 'w', encoding = 'utf-8')\n",
    "f.write(train_bad_path_img)\n",
    "f.close()"
   ]
  },
  {
   "cell_type": "code",
   "execution_count": 32,
   "metadata": {},
   "outputs": [],
   "source": [
    "test_path_img = change_path(test_list_img)\n",
    "f = open('{input your path}\\\\test.txt', 'w', encoding = 'utf-8')\n",
    "f.write(test_path_img)\n",
    "f.close()"
   ]
  }
 ],
 "metadata": {
  "kernelspec": {
   "display_name": "Python 3",
   "language": "python",
   "name": "python3"
  },
  "language_info": {
   "codemirror_mode": {
    "name": "ipython",
    "version": 3
   },
   "file_extension": ".py",
   "mimetype": "text/x-python",
   "name": "python",
   "nbconvert_exporter": "python",
   "pygments_lexer": "ipython3",
   "version": "3.8.3"
  }
 },
 "nbformat": 4,
 "nbformat_minor": 4
}
