{
 "cells": [
  {
   "cell_type": "code",
   "execution_count": null,
   "metadata": {},
   "outputs": [],
   "source": [
    "from PIL import Image\n",
    "import glob\n",
    "import numpy as np\n",
    "from tqdm import tqdm"
   ]
  },
  {
   "cell_type": "code",
   "execution_count": null,
   "metadata": {},
   "outputs": [],
   "source": [
    "root = '{input your sub path}'"
   ]
  },
  {
   "cell_type": "code",
   "execution_count": null,
   "metadata": {},
   "outputs": [],
   "source": [
    "path = \"{input your path}\" + root + \"\\\\*\"\n",
    "pad_path = \"{input your path}\" + root + \"\\\\\"\n",
    "file_list = glob.glob(path)\n",
    "file_list_img = [file for file in file_list if file.endswith(\"g\")]"
   ]
  },
  {
   "cell_type": "code",
   "execution_count": null,
   "metadata": {},
   "outputs": [],
   "source": [
    "def resize_pad_img(path, size):\n",
    "    img = Image.open(path)\n",
    "    img_w = img.width\n",
    "    img_h = img.height\n",
    "        \n",
    "    if(img_w >= img_h):\n",
    "        ratio = size / img_w\n",
    "    else:\n",
    "        ratio = size / img_h\n",
    "    re_w = int(img_w * ratio)\n",
    "    re_h = int(img_h * ratio)\n",
    "    re_img = np.array(img.resize((re_w, re_h)))\n",
    "    \n",
    "    #  in case when you have odd number\n",
    "    top_pad = np.floor((size - re_img.shape[0]) / 2).astype(np.uint16)\n",
    "    bottom_pad = np.ceil((size - re_img.shape[0]) / 2).astype(np.uint16)\n",
    "    right_pad = np.ceil((size - re_img.shape[1]) / 2).astype(np.uint16)\n",
    "    left_pad = np.floor((size - re_img.shape[1]) / 2).astype(np.uint16)\n",
    "    pad_image = np.pad(re_img, ((top_pad, bottom_pad), (left_pad, right_pad), (0, 0)), mode='constant', constant_values=0)\n",
    "    return Image.fromarray(pad_image, 'RGB')"
   ]
  },
  {
   "cell_type": "code",
   "execution_count": null,
   "metadata": {},
   "outputs": [],
   "source": [
    "for i, j in tqdm(enumerate(file_list_img)):\n",
    "    try:\n",
    "        resize_pad_img(j, 608).save(pad_path + str(i) + '.' + j.split('.')[-1])\n",
    "    except Exception as e:\n",
    "        print(e)"
   ]
  }
 ],
 "metadata": {
  "kernelspec": {
   "display_name": "Python 3",
   "language": "python",
   "name": "python3"
  },
  "language_info": {
   "codemirror_mode": {
    "name": "ipython",
    "version": 3
   },
   "file_extension": ".py",
   "mimetype": "text/x-python",
   "name": "python",
   "nbconvert_exporter": "python",
   "pygments_lexer": "ipython3",
   "version": "3.8.3"
  }
 },
 "nbformat": 4,
 "nbformat_minor": 4
}
